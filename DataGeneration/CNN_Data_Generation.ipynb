{
 "cells": [
  {
   "cell_type": "code",
   "execution_count": null,
   "id": "initial_id",
   "metadata": {
    "collapsed": true
   },
   "source": [
    "from DataGeneration.CNN_Data_Loader import SciBot_DataLoader\n",
    "import pandas as pd\n",
    "import matplotlib.pyplot as plt\n",
    "import numpy as np"
   ],
   "outputs": []
  },
  {
   "cell_type": "code",
   "source": [
    "def generate_scanpath_grel(df, path):\n",
    "    # Create a black background figure with specified size and DPI\n",
    "    plt.figure(figsize=(25.6, 14.4), dpi=100, facecolor='black')\n",
    "    plt.axis('off')  # Turn off the axis\n",
    "    \n",
    "    # Define fixation durations and corresponding marker properties\n",
    "    fixation_levels = {\n",
    "        'Level 1': {'duration_range': (110, 250), 'marker': 'o', 'color': 'red', 'size': 6},\n",
    "        'Level 2': {'duration_range': (250, 400), 'marker': '*', 'color': 'purple', 'size': 12},\n",
    "        'Level 3': {'duration_range': (400, 550), 'marker': 'p', 'color': 'yellow', 'size': 18},\n",
    "        'Level 4': {'duration_range': (550, np.inf), 'marker': 'x', 'color': 'white', 'size': 24}\n",
    "    }\n",
    "    \n",
    "    # Plot saccades as straight lines\n",
    "    for i in range(len(df) - 1):\n",
    "        plt.plot([df.iloc[i]['avg_gaze_x'], df.iloc[i+1]['avg_gaze_x']], [df.iloc[i]['avg_gaze_y'], df.iloc[i+1]['avg_gaze_y']], color=plt.cm.winter(i / len(df)))\n",
    "    \n",
    "    # Plot fixations\n",
    "    for _, fixation in df.iterrows():\n",
    "        for level, properties in fixation_levels.items():\n",
    "            if properties['duration_range'][0] <= fixation['duration'] < properties['duration_range'][1]:\n",
    "                plt.plot(fixation['avg_gaze_x'], fixation['avg_gaze_y'], marker=properties['marker'], color=properties['color'], markersize=properties['size'])\n",
    "\n",
    "    plt.gca().set_aspect('equal', adjustable='box')\n",
    "    plt.title('Scanpath')\n",
    "    plt.xlim(0, 2560)\n",
    "    plt.ylim(0, 1440)\n",
    "    \n",
    "    # Save the plot as an image with black background\n",
    "    plt.savefig(path, facecolor='black', bbox_inches='tight', pad_inches=0)  # Use facecolor='black' to set black background\n",
    "    plt.close()"
   ],
   "metadata": {
    "collapsed": false
   },
   "id": "19a633be1f032d15",
   "execution_count": null,
   "outputs": []
  },
  {
   "cell_type": "code",
   "source": [
    "def generate_scanpath_nq(df, path):\n",
    "    # Create a black background figure with specified size and DPI\n",
    "    plt.figure(figsize=(25.6, 14.4), dpi=100, facecolor='black')\n",
    "    plt.axis('off')  # Turn off the axis\n",
    "    # Define fixation durations and corresponding marker properties\n",
    "    fixation_levels = {\n",
    "        'Level 1': {'duration_range': (110, 250), 'marker': 'o', 'color': 'red', 'size': 6},\n",
    "        'Level 2': {'duration_range': (250, 400), 'marker': '*', 'color': 'purple', 'size': 12},\n",
    "        'Level 3': {'duration_range': (400, 550), 'marker': 'p', 'color': 'yellow', 'size': 18},\n",
    "        'Level 4': {'duration_range': (550, np.inf), 'marker': 'x', 'color': 'white', 'size': 24}\n",
    "    }\n",
    "    # Plot saccades as straight lines\n",
    "    for i in range(len(df) - 1):\n",
    "        if df.iloc[i]['fixation_id'] - df.iloc[i + 1]['fixation_id'] == -1:\n",
    "            plt.plot([df.iloc[i]['avg_gaze_x'], df.iloc[i+1]['avg_gaze_x']], [df.iloc[i]['avg_gaze_y'], df.iloc[i+1]['avg_gaze_y']], color=plt.cm.winter(i / len(df)))\n",
    "    # Plot fixations\n",
    "    for _, fixation in df.iterrows():\n",
    "        for level, properties in fixation_levels.items():\n",
    "            if properties['duration_range'][0] <= fixation['duration'] < properties['duration_range'][1]:\n",
    "                plt.plot(fixation['avg_gaze_x'], fixation['avg_gaze_y'], marker=properties['marker'], color=properties['color'], markersize=properties['size'])\n",
    " \n",
    "    plt.gca().set_aspect('equal', adjustable='box')\n",
    "    plt.title('Scanpath')\n",
    "    plt.xlim(0, 2560)\n",
    "    plt.ylim(0, 1440)\n",
    "    # Save the plot as an image with black background\n",
    "    plt.savefig(path, facecolor='black', bbox_inches='tight', pad_inches=0)  # Use facecolor='black' to set black background\n",
    "    plt.close()"
   ],
   "metadata": {
    "collapsed": false
   },
   "id": "f78baa007b4e8913",
   "execution_count": null,
   "outputs": []
  },
  {
   "cell_type": "code",
   "source": [
    "# load data\n",
    "users_ids = [\"A01\", \"A03\", \"A04\", \"A06\", \"A07\", \"A08\", \"A09\", \"A10\", \"A11\", \"A12\", \"A13\",\n",
    "             \"B01\", \"B02\", \"B03\", \"B04\", \"B05\", \"B06\", \"B07\", \"B08\", \"B09\", \"B10\", \"B11\", \"B12\", \"B13\"]\n",
    "dataloader = SciBot_DataLoader(data_dir=\"../Data/Eye_Tracking_Data\", include_users=users_ids,\n",
    "                               gaze_data=True, reading_task=True, rating_task=False, training_data=False, gREL=True)"
   ],
   "metadata": {
    "collapsed": false
   },
   "id": "2695911892487988",
   "execution_count": null,
   "outputs": []
  },
  {
   "cell_type": "code",
   "source": [
    "# we will convert the full gaze recording to fixation recording only with format fixation_id,timestamp fixation_x, fixation_y, duration\n",
    "grel_output_list = []\n",
    "corpus = \"g-rel\"\n",
    "for user in dataloader.grel_reading.keys():\n",
    "    for stimulus in dataloader.grel_reading[user]:\n",
    "        grel_df = dataloader.grel_reading[user][stimulus][\"dataframe\"]\n",
    "        event_df = grel_df.groupby(\"fixation_id\").agg(\n",
    "                        timestamp=(\"timestamp\", \"min\"),  # Rename and find the minimum timestamp\n",
    "                        max_timestamp=(\"timestamp\", \"max\"),  # Find the maximum timestamp\n",
    "                        avg_gaze_x=(\"gaze_x\", \"mean\"),  # Calculate the average gaze_x\n",
    "                        avg_gaze_y=(\"gaze_y\", \"mean\")  # Calculate the average gaze_y\n",
    "                    )\n",
    "        # Calculate duration\n",
    "        event_df[\"duration\"] = event_df[\"max_timestamp\"] - event_df[\"timestamp\"]\n",
    "        pr = dataloader.grel_reading[user][stimulus][\"perceived_relevance\"][0]\n",
    "        sr = dataloader.grel_reading[user][stimulus][\"system_relevance\"][0]\n",
    "        # Drop the max_timestamp and min_timestamp columns if not needed\n",
    "        event_df = event_df.drop(columns=[\"max_timestamp\"])\n",
    "        event_df: pd.DataFrame\n",
    "        # change timestamp to ms\n",
    "        event_df[\"timestamp\"] *= 1000\n",
    "        event_df[\"duration\"] *=1000\n",
    "        csv_path = f\"../Data/CNN_Data/event_data/{user}_{stimulus}_{pr}_{sr}.csv\"\n",
    "        image_path = f\"../Data/CNN_Data/event_data/{user}_{stimulus}_{pr}_{sr}.png\"\n",
    "        event_df.to_csv(csv_path)\n",
    "        generate_scanpath_grel(event_df, image_path)\n",
    "        gREL_relevance = dataloader.grel_reading[user][stimulus][\"g-rel_relevance\"][0]  # Needed to extract topical data\n",
    "        grel_output_list.append({\"user_id\": user, \"corpus\": corpus, \"stimulus\":stimulus, \"label\": pr, \"system_label\": sr, \"gREL_label\": gREL_relevance, \"img_path\": image_path})            \n",
    "    print(f\"{user} finished\")\n",
    "\n",
    "grel_output_df = pd.DataFrame(grel_output_list)\n",
    "grel_output_df.to_csv(f\"../Data/CNN_Data/gREL_event_data.csv\", index=False)"
   ],
   "metadata": {
    "collapsed": false
   },
   "id": "b57ef506dc6bbba2",
   "execution_count": null,
   "outputs": []
  },
  {
   "cell_type": "code",
   "source": [
    "google_output_list = []\n",
    "corpus = \"nq\"\n",
    "for user in dataloader.google_nq_reading.keys():\n",
    "    for stimulus in dataloader.google_nq_reading[user]:\n",
    "        google_df = dataloader.google_nq_reading[user][stimulus][\"dataframe\"]\n",
    "        for paragraph in range(dataloader.google_nq_reading[user][stimulus][\"num_paragraphs\"]):\n",
    "            paragraph_df = google_df[google_df[\"paragraph_id\"] == paragraph]\n",
    "            event_df = paragraph_df.groupby(\"fixation_id\", as_index=False).agg(\n",
    "                    timestamp=(\"timestamp\", \"min\"),  # Rename and find the minimum timestamp\n",
    "                    max_timestamp=(\"timestamp\", \"max\"),  # Find the maximum timestamp\n",
    "                    avg_gaze_x=(\"gaze_x\", \"mean\"),  # Calculate the average gaze_x\n",
    "                    avg_gaze_y=(\"gaze_y\", \"mean\")  # Calculate the average gaze_y\n",
    "                )\n",
    "            # Calculate duration\n",
    "            event_df[\"duration\"] = event_df[\"max_timestamp\"] - event_df[\"timestamp\"]\n",
    "            pr = dataloader.google_nq_reading[user][stimulus][\"perceived_relevance\"][paragraph]\n",
    "            sr = dataloader.google_nq_reading[user][stimulus][\"system_relevance\"][paragraph]\n",
    "            # Drop the max_timestamp and min_timestamp columns if not needed\n",
    "            event_df = event_df.drop(columns=[\"max_timestamp\"])\n",
    "            event_df: pd.DataFrame\n",
    "            # change timestamp to ms\n",
    "            event_df[\"timestamp\"] *= 1000\n",
    "            event_df[\"duration\"] *=1000\n",
    "            csv_path = f\"../Data/CNN_Data/event_data/{user}_{stimulus}_{paragraph}_{pr}_{sr}.csv\"\n",
    "            image_path = f\"../Data/CNN_Data/event_data/{user}_{stimulus}_{paragraph}_{pr}_{sr}.png\"\n",
    "            event_df.to_csv(csv_path)\n",
    "            generate_scanpath_nq(event_df, image_path)\n",
    "            google_output_list.append({\"user_id\": user, \"corpus\": corpus, \"stimulus\":stimulus, \"paragraph_id\": paragraph, \"label\": pr, \"system_label\": sr, \"img_path\": image_path})\n",
    "    print(f\"{user} finished\")\n",
    "    \n",
    "google_output_df = pd.DataFrame(google_output_list)\n",
    "google_output_df.to_csv(f\"../Data/CNN_Data/GoogleNQ_event_data.csv\", index=False)"
   ],
   "metadata": {
    "collapsed": false
   },
   "id": "ec48211084437525",
   "execution_count": null,
   "outputs": []
  },
  {
   "cell_type": "code",
   "source": [],
   "metadata": {
    "collapsed": false
   },
   "id": "544daa9f1860d6b7",
   "execution_count": null,
   "outputs": []
  }
 ],
 "metadata": {
  "kernelspec": {
   "display_name": "Python 3",
   "language": "python",
   "name": "python3"
  },
  "language_info": {
   "codemirror_mode": {
    "name": "ipython",
    "version": 2
   },
   "file_extension": ".py",
   "mimetype": "text/x-python",
   "name": "python",
   "nbconvert_exporter": "python",
   "pygments_lexer": "ipython2",
   "version": "2.7.6"
  }
 },
 "nbformat": 4,
 "nbformat_minor": 5
}
